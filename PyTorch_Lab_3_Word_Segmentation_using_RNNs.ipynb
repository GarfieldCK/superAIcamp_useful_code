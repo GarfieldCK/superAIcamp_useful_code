{
  "nbformat": 4,
  "nbformat_minor": 0,
  "metadata": {
    "colab": {
      "provenance": [],
      "collapsed_sections": []
    },
    "kernelspec": {
      "display_name": "Python 3",
      "language": "python",
      "name": "python3"
    }
  },
  "cells": [
    {
      "cell_type": "markdown",
      "metadata": {
        "id": "_iRdVX6c5mGt"
      },
      "source": [
        "# PyTorch Lab 3\n",
        "\n",
        "Written by Prachya Boonkwan (Arm)"
      ]
    },
    {
      "cell_type": "code",
      "metadata": {
        "id": "kc_wJrf85nT5",
        "outputId": "81997748-2ead-4c16-d1f3-5763e92e026f",
        "colab": {
          "base_uri": "https://localhost:8080/"
        }
      },
      "source": [
        "!pip install -q torch torchvision tqdm nltk\n",
        "import nltk\n",
        "nltk.download('gutenberg')\n",
        "nltk.download('punkt')"
      ],
      "execution_count": null,
      "outputs": [
        {
          "output_type": "stream",
          "name": "stdout",
          "text": [
            "[nltk_data] Downloading package gutenberg to /root/nltk_data...\n",
            "[nltk_data]   Unzipping corpora/gutenberg.zip.\n",
            "[nltk_data] Downloading package punkt to /root/nltk_data...\n",
            "[nltk_data]   Unzipping tokenizers/punkt.zip.\n"
          ]
        },
        {
          "output_type": "execute_result",
          "data": {
            "text/plain": [
              "True"
            ]
          },
          "metadata": {},
          "execution_count": 1
        }
      ]
    },
    {
      "cell_type": "markdown",
      "metadata": {
        "id": "ucZjh7KI5mGw"
      },
      "source": [
        "## Sequence Prediction"
      ]
    },
    {
      "cell_type": "markdown",
      "metadata": {
        "id": "6DRFWtF19pA9"
      },
      "source": [
        "In this workshop, we are going to implement a word tokenizer based on recurrent neural networks.\n",
        "\n",
        "We will apply sequence prediction to word segmentation. We are now going to simulate the problem in English by removing all spaces in English and pretending that it is a consecutively written language. For example, a sentence like\n",
        "\n",
        "`Hi there. My name is Arm.`\n",
        "\n",
        "would be converted into a string similar to below:\n",
        "\n",
        "`hithere.mynameisarm.`\n",
        "\n",
        "Then we will tokenize this string with a deep neural network model and compare the result with the original string."
      ]
    },
    {
      "cell_type": "markdown",
      "metadata": {
        "id": "gb8uytls5mG0"
      },
      "source": [
        "## Header"
      ]
    },
    {
      "cell_type": "markdown",
      "metadata": {
        "id": "82xNj64z5mG1"
      },
      "source": [
        "This part is the header of the code. My favorite import aliases for PyTorch are as follows. This will be very useful for speed coding."
      ]
    },
    {
      "cell_type": "code",
      "metadata": {
        "id": "OB_zhMoX5mG3"
      },
      "source": [
        "#!/usr/bin/env python3\n",
        "#-*- coding: utf-8 -*-\n",
        "\n",
        "import torch as T\n",
        "import torch.nn as N\n",
        "import torch.optim as O\n",
        "\n",
        "from tqdm import tqdm    # Nice progressbar\n",
        "import matplotlib.pyplot as plt\n",
        "%matplotlib inline\n",
        "\n",
        "import random"
      ],
      "execution_count": null,
      "outputs": []
    },
    {
      "cell_type": "markdown",
      "metadata": {
        "id": "0DC9hNTK5mG-"
      },
      "source": [
        "-----"
      ]
    },
    {
      "cell_type": "markdown",
      "metadata": {
        "id": "s04Bqg_75mG_"
      },
      "source": [
        "## Data Preparation"
      ]
    },
    {
      "cell_type": "markdown",
      "metadata": {
        "id": "S8zpApCh5mHB"
      },
      "source": [
        "### Using Free Dataset from The Gutenberg Project "
      ]
    },
    {
      "cell_type": "markdown",
      "metadata": {
        "id": "ySC05reSOGXK"
      },
      "source": [
        "We will download a sample text from NLTK (natural language toolkit) and make it our dataset (a.k.a. *corpus*). Here we choose 'The Hamlet' of Shakespeare, a classic English novel from the 16th century. We convert every word into the lower case (e.g. `Hello` -> `hello`).\n",
        "\n",
        "Note that this dataset is textual, not numerical. We will have to convert it into a bunch of numbers so that it can be processed by the neural networks."
      ]
    },
    {
      "cell_type": "code",
      "metadata": {
        "id": "6u9RoHx25mHD",
        "outputId": "0496c72e-349a-4c6d-b95f-5f6f66a8fad5",
        "colab": {
          "base_uri": "https://localhost:8080/"
        }
      },
      "source": [
        "from nltk.corpus import gutenberg\n",
        "\n",
        "corpus = [ [word.lower() for word in sent]\n",
        "           for sent in gutenberg.sents('shakespeare-hamlet.txt') ]\n",
        "\n",
        "crplen = len(corpus)\n",
        "print('Number of sentences = {}'.format(crplen))\n",
        "\n",
        "no_words = sum(len(sent) for sent in corpus)\n",
        "print('Number of words     = {}'.format(no_words))"
      ],
      "execution_count": null,
      "outputs": [
        {
          "output_type": "stream",
          "name": "stdout",
          "text": [
            "Number of sentences = 3106\n",
            "Number of words     = 37360\n"
          ]
        }
      ]
    },
    {
      "cell_type": "markdown",
      "metadata": {
        "id": "ZZWpry1N5mHM"
      },
      "source": [
        "### Character Indexing"
      ]
    },
    {
      "cell_type": "markdown",
      "metadata": {
        "id": "xZaqs0gcOq3p"
      },
      "source": [
        "Once we obtain the dataset, we will now convert it into sequences of numbers. Our objective is to convert a string e.g. `hello` into a vector of five numbers representing each character. Such numbers are called *character indices*.\n",
        "\n",
        "We first populate all characters in the dataset into `all_chars`."
      ]
    },
    {
      "cell_type": "code",
      "metadata": {
        "id": "Fht2AxNL5mHO"
      },
      "source": [
        "all_chars = set()\n",
        "for sent in corpus:\n",
        "    for word in sent:\n",
        "        all_chars.update(set(word))"
      ],
      "execution_count": null,
      "outputs": []
    },
    {
      "cell_type": "markdown",
      "metadata": {
        "id": "Tje9OYqnPmYy"
      },
      "source": [
        "Then we create a mapping table from an index to a corresponding character. Let's name this table `idx2char`."
      ]
    },
    {
      "cell_type": "code",
      "metadata": {
        "id": "QbWbBcu45mHS",
        "outputId": "a466d7a4-30a2-4e2f-b1c2-76b889ab739f",
        "colab": {
          "base_uri": "https://localhost:8080/"
        }
      },
      "source": [
        "idx2char = [None] + sorted(all_chars)\n",
        "print(idx2char)\n",
        "\n",
        "no_chars = len(idx2char)\n",
        "print('Number of characters = {}'.format(no_chars))"
      ],
      "execution_count": null,
      "outputs": [
        {
          "output_type": "stream",
          "name": "stdout",
          "text": [
            "[None, '!', '&', \"'\", '(', ')', ',', '-', '.', '1', '5', '9', ':', ';', '?', '[', ']', 'a', 'b', 'c', 'd', 'e', 'f', 'g', 'h', 'i', 'j', 'k', 'l', 'm', 'n', 'o', 'p', 'q', 'r', 's', 't', 'u', 'v', 'w', 'x', 'y', 'z']\n",
            "Number of characters = 43\n"
          ]
        }
      ]
    },
    {
      "cell_type": "markdown",
      "metadata": {
        "id": "NQzAaGbrPtz9"
      },
      "source": [
        "Next we create another table that maps each character back to its corresponding index. Let's name this table `char2idx`."
      ]
    },
    {
      "cell_type": "code",
      "metadata": {
        "id": "yxDKPXf-5mHY",
        "outputId": "02549b96-3095-4b84-c9ee-03024374c72f",
        "colab": {
          "base_uri": "https://localhost:8080/"
        }
      },
      "source": [
        "char2idx = {}\n",
        "for (idx, char) in enumerate(idx2char):\n",
        "    char2idx[char] = idx\n",
        "print(char2idx)"
      ],
      "execution_count": null,
      "outputs": [
        {
          "output_type": "stream",
          "name": "stdout",
          "text": [
            "{None: 0, '!': 1, '&': 2, \"'\": 3, '(': 4, ')': 5, ',': 6, '-': 7, '.': 8, '1': 9, '5': 10, '9': 11, ':': 12, ';': 13, '?': 14, '[': 15, ']': 16, 'a': 17, 'b': 18, 'c': 19, 'd': 20, 'e': 21, 'f': 22, 'g': 23, 'h': 24, 'i': 25, 'j': 26, 'k': 27, 'l': 28, 'm': 29, 'n': 30, 'o': 31, 'p': 32, 'q': 33, 'r': 34, 's': 35, 't': 36, 'u': 37, 'v': 38, 'w': 39, 'x': 40, 'y': 41, 'z': 42}\n"
          ]
        }
      ]
    },
    {
      "cell_type": "markdown",
      "metadata": {
        "id": "aI-IAZ9jQGmY"
      },
      "source": [
        "Note that we deliberately add `None` as one of the characters. It will be used for finding an unknown/unseen character to an index by mapping it to `None`."
      ]
    },
    {
      "cell_type": "markdown",
      "metadata": {
        "id": "XTb18K4h5mHd"
      },
      "source": [
        "### Conversion between String and Index Sequence"
      ]
    },
    {
      "cell_type": "markdown",
      "metadata": {
        "id": "hpVm7EmfP8QC"
      },
      "source": [
        "It is now very easy to convert a character sequence into a sequence of character index. Here we sequentially convert each character in the sequence into its corresponding index."
      ]
    },
    {
      "cell_type": "code",
      "metadata": {
        "id": "I4RM0ONl5mHe"
      },
      "source": [
        "def str2idxseq(charseq):\n",
        "    idxseq = []\n",
        "    for char in charseq:\n",
        "        char = char.lower()\n",
        "        if char in char2idx:\n",
        "            idxseq.append(char2idx[char])\n",
        "        else:\n",
        "            idxseq.append(char2idx[None])\n",
        "    return idxseq"
      ],
      "execution_count": null,
      "outputs": []
    },
    {
      "cell_type": "code",
      "metadata": {
        "id": "0oq6z-jv5mHi",
        "outputId": "4c2ac3aa-f5e8-4c9f-92a8-07254c2f60ca",
        "colab": {
          "base_uri": "https://localhost:8080/"
        }
      },
      "source": [
        "cuter_idxseq = str2idxseq('CutEr')\n",
        "print(cuter_idxseq)"
      ],
      "execution_count": null,
      "outputs": [
        {
          "output_type": "stream",
          "name": "stdout",
          "text": [
            "[19, 37, 36, 21, 34]\n"
          ]
        }
      ]
    },
    {
      "cell_type": "markdown",
      "metadata": {
        "id": "KFpqcWLYQhdt"
      },
      "source": [
        "Also, we can sequentially convert a sequence of character indices back to a character sequence. Note that any unknown character index will be converted to a space."
      ]
    },
    {
      "cell_type": "code",
      "metadata": {
        "id": "40RXwSPf5mHn"
      },
      "source": [
        "def idxseq2str(idxseq):\n",
        "    charseq = []\n",
        "    for idx in idxseq:\n",
        "        if idx < len(idx2char):\n",
        "            charseq.append(idx2char[idx])\n",
        "        else:\n",
        "            charseq.append(' ')\n",
        "    return charseq"
      ],
      "execution_count": null,
      "outputs": []
    },
    {
      "cell_type": "code",
      "metadata": {
        "id": "sbmo_Sg_5mHq",
        "outputId": "b6d0c171-3331-474e-ce01-a1bb78dde9c9",
        "colab": {
          "base_uri": "https://localhost:8080/"
        }
      },
      "source": [
        "print(idxseq2str(cuter_idxseq))"
      ],
      "execution_count": null,
      "outputs": [
        {
          "output_type": "stream",
          "name": "stdout",
          "text": [
            "['c', 'u', 't', 'e', 'r']\n"
          ]
        }
      ]
    },
    {
      "cell_type": "code",
      "source": [],
      "metadata": {
        "id": "0ROCqpvIgi9m"
      },
      "execution_count": null,
      "outputs": []
    },
    {
      "cell_type": "markdown",
      "metadata": {
        "id": "-P8vK6Mc5mHu"
      },
      "source": [
        "### Preparing Training and Testing Sets"
      ]
    },
    {
      "cell_type": "markdown",
      "metadata": {
        "id": "TO26iYOsQ2Yc"
      },
      "source": [
        "\n",
        "\n",
        "```\n",
        "# มีการจัดรูปแบบเป็นโค้ด\n",
        "```\n",
        "\n",
        "Now it's time to prepare our dataset for the neural networks. We will convert a sequence of words into a representation containing a sequence of character indices and a sequence of word delimiters. For example, the list `['my', 'name']` will be converted into:\n",
        "\n",
        "- A sequence of character indices [`m`, `y`, `n`, `a`, `m`, `e`]\n",
        "- A sequence of word delimiters $[\\mathbb{F}, \\mathbb{T}, \\mathbb{F}, \\mathbb{F}, \\mathbb{F}, \\mathbb{T}]$\n",
        "\n",
        "| m | y | n | a | m | e |\n",
        "|:-:|:-:|:-:|:-:|:-:|:-:|\n",
        "| F | T | F | F | F | T |"
      ]
    },
    {
      "cell_type": "code",
      "metadata": {
        "id": "AVaB1wj45mHv"
      },
      "source": [
        "def sent2data(sent):\n",
        "    charidxs = []\n",
        "    wordbrks = []\n",
        "    for charseq in sent:\n",
        "        idxs = str2idxseq(charseq)\n",
        "        charidxs.extend(idxs)\n",
        "        wordbrks.extend((len(idxs) - 1) * [False] + [True])\n",
        "    return (charidxs, wordbrks)"
      ],
      "execution_count": null,
      "outputs": []
    },
    {
      "cell_type": "markdown",
      "metadata": {
        "id": "cjX34HbefK7u"
      },
      "source": [
        "Let's try it out with the list `['hello', 'world']`."
      ]
    },
    {
      "cell_type": "code",
      "metadata": {
        "id": "9E0PwaB05mHy",
        "outputId": "4cd9c50a-d411-43cc-a2c3-9d0faee92653",
        "colab": {
          "base_uri": "https://localhost:8080/"
        }
      },
      "source": [
        "sent = ['hello', 'world']\n",
        "charidxs, wordbrks = sent2data(sent)\n",
        "print(charidxs)\n",
        "print(wordbrks)"
      ],
      "execution_count": null,
      "outputs": [
        {
          "output_type": "stream",
          "name": "stdout",
          "text": [
            "[24, 21, 28, 28, 31, 39, 31, 34, 28, 20]\n",
            "[False, False, False, False, True, False, False, False, False, True]\n"
          ]
        }
      ]
    },
    {
      "cell_type": "markdown",
      "metadata": {
        "id": "NxESG06yRxAS"
      },
      "source": [
        "Then we convert the whole dataset into this representation."
      ]
    },
    {
      "cell_type": "code",
      "metadata": {
        "id": "vie67KpU5mH2"
      },
      "source": [
        "def corpus2dataset(corpus):\n",
        "    dataset = []\n",
        "    for sent in corpus:\n",
        "        charidxs, wordbrks = sent2data(sent)\n",
        "        dataset.append((charidxs, wordbrks))\n",
        "    return dataset"
      ],
      "execution_count": null,
      "outputs": []
    },
    {
      "cell_type": "code",
      "metadata": {
        "id": "ZHPL1iDA5mH4",
        "outputId": "676c82f5-8cd2-495c-d3a8-acd46c515dd9",
        "colab": {
          "base_uri": "https://localhost:8080/"
        }
      },
      "source": [
        "crp = [ ['hello', 'world'],\n",
        "        ['my', 'name', 'is', 'arm'] ]\n",
        "ds = corpus2dataset(crp)\n",
        "print(ds)"
      ],
      "execution_count": null,
      "outputs": [
        {
          "output_type": "stream",
          "name": "stdout",
          "text": [
            "[([24, 21, 28, 28, 31, 39, 31, 34, 28, 20], [False, False, False, False, True, False, False, False, False, True]), ([29, 41, 30, 17, 29, 21, 25, 35, 17, 34, 29], [False, True, False, False, False, True, False, True, False, False, True])]\n"
          ]
        }
      ]
    },
    {
      "cell_type": "markdown",
      "metadata": {
        "id": "oMXn2qt_R9BF"
      },
      "source": [
        "FInally, we separate the dataset into two parts: the training set (80%), and the testing set (20%)."
      ]
    },
    {
      "cell_type": "code",
      "metadata": {
        "id": "xY07mHr95mH7",
        "outputId": "52f87b07-1a80-4cc8-9216-5db0398b9587",
        "colab": {
          "base_uri": "https://localhost:8080/"
        }
      },
      "source": [
        "training_len = int(crplen * 0.8)           # 80% for training, 20% for testing\n",
        "training_set = corpus2dataset(corpus[: training_len])\n",
        "testing_set = corpus2dataset(corpus[training_len :])\n",
        "print('Size of training set = {}'.format(len(training_set)))\n",
        "print('Size of testing set = {}'.format(len(testing_set)))"
      ],
      "execution_count": null,
      "outputs": [
        {
          "output_type": "stream",
          "name": "stdout",
          "text": [
            "Size of training set = 2484\n",
            "Size of testing set = 622\n"
          ]
        }
      ]
    },
    {
      "cell_type": "code",
      "source": [
        "training_set[1]"
      ],
      "metadata": {
        "colab": {
          "base_uri": "https://localhost:8080/"
        },
        "id": "i9Wvnj8ohQFY",
        "outputId": "0e53dfef-4f74-4ec6-88af-1e5884890865"
      },
      "execution_count": null,
      "outputs": [
        {
          "output_type": "execute_result",
          "data": {
            "text/plain": [
              "([17, 19, 36, 37, 35, 32, 34, 25, 29, 37, 35, 8],\n",
              " [False,\n",
              "  False,\n",
              "  False,\n",
              "  False,\n",
              "  True,\n",
              "  False,\n",
              "  False,\n",
              "  False,\n",
              "  False,\n",
              "  False,\n",
              "  True,\n",
              "  True])"
            ]
          },
          "metadata": {},
          "execution_count": 24
        }
      ]
    },
    {
      "cell_type": "markdown",
      "metadata": {
        "id": "cAPfjULx5mH_"
      },
      "source": [
        "-----"
      ]
    },
    {
      "cell_type": "markdown",
      "metadata": {
        "id": "-D1SloW2SkVv"
      },
      "source": [
        "### Common Settings"
      ]
    },
    {
      "cell_type": "code",
      "metadata": {
        "id": "0rmIYHXYHQom"
      },
      "source": [
        "dim_charvec = 10\n",
        "dim_trans = 5\n",
        "no_rnn_layers = 1"
      ],
      "execution_count": null,
      "outputs": []
    },
    {
      "cell_type": "markdown",
      "metadata": {
        "id": "gw7RHXAqSiq6"
      },
      "source": [
        "-------"
      ]
    },
    {
      "cell_type": "markdown",
      "metadata": {
        "id": "xscQzhtz5mIA"
      },
      "source": [
        "## Embedding Layer"
      ]
    },
    {
      "cell_type": "markdown",
      "metadata": {
        "id": "E8hyjjUaSMFD"
      },
      "source": [
        "Embedding layer is used for mapping any sparse item, such as characters, words, and any symbols, into a vector. This vector is sometimes called *embedding vector*. The command `N.Embedding` creates an embedding layer containing a specified number of sparse items and their embedding vectors contain a specified number of elements. "
      ]
    },
    {
      "cell_type": "code",
      "metadata": {
        "id": "f64Wzpj-5mIB",
        "outputId": "8ba86c1c-5aab-4ef9-ee95-b5a238a7b5dd",
        "colab": {
          "base_uri": "https://localhost:8080/"
        }
      },
      "source": [
        "charemb_layer = N.Embedding(no_chars, dim_charvec)\n",
        "print(charemb_layer)"
      ],
      "execution_count": null,
      "outputs": [
        {
          "output_type": "stream",
          "name": "stdout",
          "text": [
            "Embedding(43, 10)\n"
          ]
        }
      ]
    },
    {
      "cell_type": "markdown",
      "metadata": {
        "id": "MYTzSOcTTC8p"
      },
      "source": [
        "This is how we compute an embedding vector of each character in a string."
      ]
    },
    {
      "cell_type": "code",
      "metadata": {
        "id": "HLQJU0VO5mIG",
        "outputId": "f41d2dfb-570e-4924-d520-5ba26884d411",
        "colab": {
          "base_uri": "https://localhost:8080/"
        }
      },
      "source": [
        "charseq = 'hello'\n",
        "\n",
        "charidxs = str2idxseq(charseq)\n",
        "print('Index sequence of \"{}\" is {}\\n'.format(charseq, charidxs))\n",
        "\n",
        "charvecs = charemb_layer(T.LongTensor(charidxs))\n",
        "print('Embedding vectors for each character:\\n{}'.format(charvecs))"
      ],
      "execution_count": null,
      "outputs": [
        {
          "output_type": "stream",
          "name": "stdout",
          "text": [
            "Index sequence of \"hello\" is [24, 21, 28, 28, 31]\n",
            "\n",
            "Embedding vectors for each character:\n",
            "tensor([[-0.0511,  1.9697, -0.3656, -0.6443,  0.8505, -0.5043, -0.3210, -0.3906,\n",
            "         -0.1646,  1.0763],\n",
            "        [ 0.9779, -0.8794,  1.3457, -1.6318, -1.1576,  0.2934, -0.5166,  1.0212,\n",
            "          0.0729,  0.0157],\n",
            "        [-0.1136,  0.7885,  0.5770,  1.2699,  1.0644, -3.1947,  1.2928, -1.6700,\n",
            "         -0.1822, -0.8639],\n",
            "        [-0.1136,  0.7885,  0.5770,  1.2699,  1.0644, -3.1947,  1.2928, -1.6700,\n",
            "         -0.1822, -0.8639],\n",
            "        [ 0.3927, -1.2697, -1.2262, -2.1252,  0.3594,  0.4094, -0.4179,  0.7314,\n",
            "         -1.1308,  2.2055]], grad_fn=<EmbeddingBackward0>)\n"
          ]
        }
      ]
    },
    {
      "cell_type": "markdown",
      "metadata": {
        "id": "5V27cWkXTKyo"
      },
      "source": [
        "Note that the embedding vector of two `l`'s are the same."
      ]
    },
    {
      "cell_type": "markdown",
      "metadata": {
        "id": "sdxDJUnkTTQY"
      },
      "source": [
        "Although the result is a matrix, we can easily get access to each embedding vector by matrix indexing `[]`."
      ]
    },
    {
      "cell_type": "code",
      "metadata": {
        "id": "rU3hXAKp5mIJ",
        "outputId": "6e834aca-5b45-4600-8f89-34af8d900bae",
        "colab": {
          "base_uri": "https://localhost:8080/"
        }
      },
      "source": [
        "for i in range(len(charseq)):\n",
        "    print('Character embedding for index {} \"{}\" is:\\n{}'.format(i, charseq[i], charvecs[i]))"
      ],
      "execution_count": null,
      "outputs": [
        {
          "output_type": "stream",
          "name": "stdout",
          "text": [
            "Character embedding for index 0 \"h\" is:\n",
            "tensor([-0.0511,  1.9697, -0.3656, -0.6443,  0.8505, -0.5043, -0.3210, -0.3906,\n",
            "        -0.1646,  1.0763], grad_fn=<SelectBackward0>)\n",
            "Character embedding for index 1 \"e\" is:\n",
            "tensor([ 0.9779, -0.8794,  1.3457, -1.6318, -1.1576,  0.2934, -0.5166,  1.0212,\n",
            "         0.0729,  0.0157], grad_fn=<SelectBackward0>)\n",
            "Character embedding for index 2 \"l\" is:\n",
            "tensor([-0.1136,  0.7885,  0.5770,  1.2699,  1.0644, -3.1947,  1.2928, -1.6700,\n",
            "        -0.1822, -0.8639], grad_fn=<SelectBackward0>)\n",
            "Character embedding for index 3 \"l\" is:\n",
            "tensor([-0.1136,  0.7885,  0.5770,  1.2699,  1.0644, -3.1947,  1.2928, -1.6700,\n",
            "        -0.1822, -0.8639], grad_fn=<SelectBackward0>)\n",
            "Character embedding for index 4 \"o\" is:\n",
            "tensor([ 0.3927, -1.2697, -1.2262, -2.1252,  0.3594,  0.4094, -0.4179,  0.7314,\n",
            "        -1.1308,  2.2055], grad_fn=<SelectBackward0>)\n"
          ]
        }
      ]
    },
    {
      "cell_type": "markdown",
      "metadata": {
        "id": "3Sh4d5SI5mIM"
      },
      "source": [
        "-----"
      ]
    },
    {
      "cell_type": "markdown",
      "metadata": {
        "id": "SyAvgNBy5mIN"
      },
      "source": [
        "## Recurrent Neural Networks"
      ]
    },
    {
      "cell_type": "markdown",
      "metadata": {
        "id": "MyhKi4KpTvKf"
      },
      "source": [
        "A recurrent neural network (RNN) is a neural network that takes its internal state as an input of the next feed-forwarding. Doing so enables the neural network to capture long-range dependency of any input sequence, making sequence prediction possible.\n",
        "\n",
        "RNNs linearly sweep across an input sequence of vectors to produce context vectors. This allows RNNs to accept input sequences of variable lengths during each training session. However, it is a bit harder to run batch training, because the lengths of input sequences are not equal.\n",
        "\n",
        "In this workshop, we will therefore focus on online training, i.e. feeding one training datum and perform backpropagation at a time. We will come back to batch training of RNNs in Lab 5."
      ]
    },
    {
      "cell_type": "markdown",
      "metadata": {
        "id": "6LSHC77o5mIN"
      },
      "source": [
        "### Common Parameters"
      ]
    },
    {
      "cell_type": "code",
      "metadata": {
        "id": "aBFMjUDo5mIO"
      },
      "source": [
        "dim_charvec = 10\n",
        "dim_trans = 5\n",
        "no_rnn_layers = 1"
      ],
      "execution_count": null,
      "outputs": []
    },
    {
      "cell_type": "markdown",
      "metadata": {
        "id": "NuG-yD135mIQ"
      },
      "source": [
        "### Unidirectional RNNs"
      ]
    },
    {
      "cell_type": "markdown",
      "metadata": {
        "id": "_fNT5M0BUOD4"
      },
      "source": [
        "The simplest form of RNNs is a unidirectional RNN. It takes a sequence of sparse items as an input, sweeps from left to right, performs feed-forwarding, and produces two outputs:\n",
        "\n",
        "1. The context vector for each step of feed-forwarding\n",
        "2. The last internal state vector of the RNN's cell\n",
        "\n",
        "In this example, we choose Gated Recurrent Unit (GRU) `N.GRU`. You can also replace it with Long Short-Term Memories (LSTM) `N.LSTM`. They are almost the same, but the first converges a bit faster."
      ]
    },
    {
      "cell_type": "code",
      "metadata": {
        "id": "TJtLIvdQ5mIQ",
        "outputId": "594a10f2-3c62-414f-ea93-b87750291e15",
        "colab": {
          "base_uri": "https://localhost:8080/"
        }
      },
      "source": [
        "rnn_unidir = N.GRU(dim_charvec, dim_trans, no_rnn_layers, batch_first=True)\n",
        "print(rnn_unidir)"
      ],
      "execution_count": null,
      "outputs": [
        {
          "output_type": "stream",
          "name": "stdout",
          "text": [
            "GRU(10, 5, batch_first=True)\n"
          ]
        }
      ]
    },
    {
      "cell_type": "markdown",
      "metadata": {
        "id": "yRfyA4_AJVbK"
      },
      "source": [
        "Here we set `batch_first=True` because we want the first dimension (`dim=0`) to become the batch ID. For ease of understanding, we will feed a sequence input vectors as a single mini-batch in this workshop."
      ]
    },
    {
      "cell_type": "markdown",
      "metadata": {
        "id": "LldNTkyOU-t3"
      },
      "source": [
        "To perform sequence learning, we first convert a sequence of character embedding vectors into a single mini-batch with the command `unsqueeze(0)`.\n",
        "\n",
        "Then we pass this mini-batch into an RNN. It will produce two outputs:\n",
        "\n",
        "1. The context vectors of each step of feed-forwarding\n",
        "2. The last internal state vector of the RNN's cell\n",
        "\n",
        "Once we obtain the outputs, we finally remove the mini-batch by the command `squeeze(0)`, which eliminates the mini-batch dimension from the obtained tensor."
      ]
    },
    {
      "cell_type": "code",
      "metadata": {
        "id": "2tfCYde75mIU",
        "outputId": "53a69c73-130a-4fac-83ef-2f4550e1dba1",
        "colab": {
          "base_uri": "https://localhost:8080/"
        }
      },
      "source": [
        "ctxvecs_unidir, lasthids_unidir = rnn_unidir(charvecs.unsqueeze(0))\n",
        "ctxvecs_unidir, lasthids_unidir = ctxvecs_unidir.squeeze(0), lasthids_unidir.squeeze(1)\n",
        "print(ctxvecs_unidir)\n",
        "print(lasthids_unidir)"
      ],
      "execution_count": null,
      "outputs": [
        {
          "output_type": "stream",
          "name": "stdout",
          "text": [
            "tensor([[ 0.2554,  0.1814, -0.4032, -0.3187,  0.2922],\n",
            "        [ 0.4935,  0.2790,  0.2209,  0.1207, -0.0146],\n",
            "        [-0.1171,  0.0075, -0.1963,  0.2418,  0.8873],\n",
            "        [-0.4742, -0.1607, -0.5035,  0.3291,  0.9780],\n",
            "        [ 0.4000, -0.3196,  0.6400, -0.0998,  0.8704]],\n",
            "       grad_fn=<SqueezeBackward1>)\n",
            "tensor([[ 0.4000, -0.3196,  0.6400, -0.0998,  0.8704]],\n",
            "       grad_fn=<SqueezeBackward1>)\n"
          ]
        }
      ]
    },
    {
      "cell_type": "markdown",
      "metadata": {
        "id": "KkoESOlz5mIY"
      },
      "source": [
        "### Bidirectional RNNs"
      ]
    },
    {
      "cell_type": "markdown",
      "metadata": {
        "id": "tiIL-WnBWFpz"
      },
      "source": [
        "We can sweep the input sequence from both directions and perform feed-forwarding separately. Just specify the argument `bidirection=True` in the command `N.GRU`."
      ]
    },
    {
      "cell_type": "code",
      "metadata": {
        "id": "aNL7O-k45mIZ",
        "outputId": "f145c342-ea32-4ef3-946a-69cf5b31f226",
        "colab": {
          "base_uri": "https://localhost:8080/"
        }
      },
      "source": [
        "rnn_bidir = N.GRU(dim_charvec, dim_trans, no_rnn_layers, batch_first=True, bidirectional=True)\n",
        "print(rnn_bidir)"
      ],
      "execution_count": null,
      "outputs": [
        {
          "output_type": "stream",
          "name": "stdout",
          "text": [
            "GRU(10, 5, batch_first=True, bidirectional=True)\n"
          ]
        }
      ]
    },
    {
      "cell_type": "markdown",
      "metadata": {
        "id": "rLg0HCSfWsCy"
      },
      "source": [
        "Note that the context vectors double the size. That is because they contains one half produced by sweeping from left to right and the other half produced by sweeping from right to left."
      ]
    },
    {
      "cell_type": "code",
      "metadata": {
        "id": "0CDzXkjG5mIc",
        "outputId": "1152f539-c058-4e10-c22f-2adbc8024a4c",
        "colab": {
          "base_uri": "https://localhost:8080/"
        }
      },
      "source": [
        "ctxvecs_bidir, lasthids_bidir = rnn_bidir(charvecs.unsqueeze(0))\n",
        "ctxvecs_bidir, lasthids_bidir = ctxvecs_bidir.squeeze(0), lasthids_bidir.squeeze(1)\n",
        "print(ctxvecs_bidir)\n",
        "print(lasthids_bidir)"
      ],
      "execution_count": null,
      "outputs": [
        {
          "output_type": "stream",
          "name": "stdout",
          "text": [
            "tensor([[-0.2867, -0.3273, -0.1393, -0.2277,  0.0318,  0.4547, -0.2355,  0.4136,\n",
            "         -0.0183, -0.1022],\n",
            "        [ 0.6215,  0.1925, -0.2347, -0.0187,  0.6538,  0.4348,  0.0384,  0.2774,\n",
            "          0.0557, -0.6375],\n",
            "        [ 0.3286, -0.0639, -0.3140,  0.0890,  0.5089, -0.6089, -0.2812, -0.5678,\n",
            "          0.1509,  0.0316],\n",
            "        [ 0.0882, -0.1932, -0.3586,  0.1857,  0.3770, -0.1223, -0.2083, -0.4212,\n",
            "          0.0724, -0.2898],\n",
            "        [ 0.2610,  0.5445, -0.3489,  0.1505,  0.6464,  0.5207, -0.0225,  0.1967,\n",
            "         -0.1231, -0.7054]], grad_fn=<SqueezeBackward1>)\n",
            "tensor([[ 0.2610,  0.5445, -0.3489,  0.1505,  0.6464],\n",
            "        [ 0.4547, -0.2355,  0.4136, -0.0183, -0.1022]],\n",
            "       grad_fn=<SqueezeBackward1>)\n"
          ]
        }
      ]
    },
    {
      "cell_type": "markdown",
      "metadata": {
        "id": "WkWENkgz5mIg"
      },
      "source": [
        "### Multilayer Bidirectional RNNs"
      ]
    },
    {
      "cell_type": "markdown",
      "metadata": {
        "id": "41_ZrzJ_XCkG"
      },
      "source": [
        "We can also specify the number of RNN layers for learning more abstract representation, e.g. character -> syllable -> morpheme -> word -> phrase -> sentence -> etc."
      ]
    },
    {
      "cell_type": "code",
      "metadata": {
        "id": "X4jFKXMT5mIh",
        "outputId": "57b1e008-df7a-45b5-b1b4-fd3c6e4172b8",
        "colab": {
          "base_uri": "https://localhost:8080/"
        }
      },
      "source": [
        "rnn_bidir_layer2 = N.GRU(dim_charvec, dim_trans, 2, batch_first=True, bidirectional=True)\n",
        "print(rnn_bidir_layer2)"
      ],
      "execution_count": null,
      "outputs": [
        {
          "output_type": "stream",
          "name": "stdout",
          "text": [
            "GRU(10, 5, num_layers=2, batch_first=True, bidirectional=True)\n"
          ]
        }
      ]
    },
    {
      "cell_type": "markdown",
      "metadata": {
        "id": "XIAESULgXZSZ"
      },
      "source": [
        "Note that the context vectors produced by the multilayer RNNs belong to the last layer. However, the last state vectors obtained contain all vectors of the layers."
      ]
    },
    {
      "cell_type": "code",
      "metadata": {
        "id": "wXmbu49s5mIj",
        "outputId": "d5ddf2a1-1c9b-46e0-eaa5-2ae1d5719a62",
        "colab": {
          "base_uri": "https://localhost:8080/"
        }
      },
      "source": [
        "ctxvecs_bidir_layer2, lasthids_bidir_layer2 = rnn_bidir_layer2(charvecs.unsqueeze(0))\n",
        "ctxvecs_bidir_layer2, lasthids_bidir_layer2 = ctxvecs_bidir_layer2.squeeze(0), lasthids_bidir_layer2.squeeze(1)\n",
        "print(ctxvecs_bidir_layer2)\n",
        "print(lasthids_bidir_layer2)"
      ],
      "execution_count": null,
      "outputs": [
        {
          "output_type": "stream",
          "name": "stdout",
          "text": [
            "tensor([[ 0.2710, -0.0687, -0.3183, -0.0884,  0.3376, -0.6564,  0.1224,  0.6894,\n",
            "         -0.4724,  0.6019],\n",
            "        [ 0.4348, -0.3043, -0.2368,  0.0282,  0.5031, -0.7596,  0.1727,  0.6604,\n",
            "         -0.5324,  0.5992],\n",
            "        [ 0.6075, -0.3495, -0.3591,  0.2444,  0.5950, -0.7306,  0.0840,  0.6078,\n",
            "         -0.5294,  0.6636],\n",
            "        [ 0.6843, -0.5233, -0.1979,  0.2029,  0.6489, -0.5373,  0.1665,  0.4698,\n",
            "         -0.3952,  0.5476],\n",
            "        [ 0.5262, -0.6121, -0.0076, -0.1795,  0.6960, -0.2151,  0.2003,  0.2569,\n",
            "         -0.2385,  0.3397]], grad_fn=<SqueezeBackward1>)\n",
            "tensor([[ 0.2556, -0.2377,  0.1470,  0.7862, -0.6417],\n",
            "        [-0.0245, -0.3108,  0.2418,  0.4577, -0.2603],\n",
            "        [ 0.5262, -0.6121, -0.0076, -0.1795,  0.6960],\n",
            "        [-0.6564,  0.1224,  0.6894, -0.4724,  0.6019]],\n",
            "       grad_fn=<SqueezeBackward1>)\n"
          ]
        }
      ]
    },
    {
      "cell_type": "markdown",
      "metadata": {
        "id": "I7XBCA2C5mIl"
      },
      "source": [
        "-------"
      ]
    },
    {
      "cell_type": "markdown",
      "metadata": {
        "id": "dnFUzVET5mIm"
      },
      "source": [
        "## Word Segmentation"
      ]
    },
    {
      "cell_type": "markdown",
      "metadata": {
        "id": "-8pG7rldX2vr"
      },
      "source": [
        "Let's now observe an application of sequence prediction --- word segmentation."
      ]
    },
    {
      "cell_type": "markdown",
      "metadata": {
        "id": "b7RNd3205mIm"
      },
      "source": [
        "### Neural Architecture"
      ]
    },
    {
      "cell_type": "markdown",
      "metadata": {
        "id": "bzAEf1fsYEVj"
      },
      "source": [
        "The neural model for word segmentation used in this workshop is simple and practical. The neural architecture is as follows.\n",
        "\n",
        "1. Character embedding layer\n",
        "2. Multilayer bidirectional RNNs\n",
        "3. Hyperbolic tangent `N.Tanh`\n",
        "4. Linear layer (hidden layer)\n",
        "5. (Log) Softmax `N.LogSoftmax(dim=1)`"
      ]
    },
    {
      "cell_type": "code",
      "metadata": {
        "id": "2Z0kSAkv5mIn"
      },
      "source": [
        "class WordsegModel(N.Module):\n",
        "    \n",
        "    def __init__(self, dim_charvec, dim_trans, no_layers):\n",
        "        super(WordsegModel, self).__init__()\n",
        "        self._dim_charvec = dim_charvec\n",
        "        self._dim_trans = dim_trans\n",
        "        self._no_layers = no_layers\n",
        "        \n",
        "        self._charemb = N.Embedding(no_chars, self._dim_charvec)\n",
        "        self._rnn = N.GRU(\n",
        "            self._dim_charvec, self._dim_trans, self._no_layers,\n",
        "            batch_first=True, bidirectional=True\n",
        "        )\n",
        "        self._tanh = N.Tanh()\n",
        "        self._hidden = N.Linear(2 * self._dim_trans, 2)    # Predicting two classes: break / no break\n",
        "        self._log_softmax = N.LogSoftmax(dim=1)\n",
        "        \n",
        "    def forward(self, charidxs):\n",
        "        try:\n",
        "            charvecs = self._charemb(T.LongTensor(charidxs))\n",
        "            # print('charvecs =\\n{}'.format(charvecs))\n",
        "            ctxvecs, lasthids = self._rnn(charvecs.unsqueeze(0))\n",
        "            ctxvecs, lasthids = ctxvecs.squeeze(0), lasthids.squeeze(1)\n",
        "            # print('ctxvecs =\\n{}'.format(ctxvecs))\n",
        "            statevecs = self._hidden(self._tanh(ctxvecs))\n",
        "            # print('statevecs =\\n{}'.format(statevecs))\n",
        "            brkvecs = self._log_softmax(statevecs)\n",
        "            # print('brkvecs =\\n{}'.format(brkvecs))\n",
        "            return brkvecs\n",
        "        except RuntimeError:\n",
        "            raise RuntimeError(statevecs)"
      ],
      "execution_count": null,
      "outputs": []
    },
    {
      "cell_type": "markdown",
      "metadata": {
        "id": "wa-hEYP5gI5m"
      },
      "source": [
        "Let's create a word segmentation model with the following configuration.\n",
        "\n",
        "- Dimension of character embedding = 16\n",
        "- Dimension of GRU's transition vector = 32\n",
        "- Number of GRU layers = 2"
      ]
    },
    {
      "cell_type": "code",
      "metadata": {
        "id": "rjf4kzpR5mIo"
      },
      "source": [
        "wordseg_model = WordsegModel(dim_charvec=16, dim_trans=32, no_layers=2)"
      ],
      "execution_count": null,
      "outputs": []
    },
    {
      "cell_type": "markdown",
      "metadata": {
        "id": "XHLHW8c-ZFE_"
      },
      "source": [
        "The output of this model is a sequence of word delimiter vectors. These vectors contains two components:\n",
        "\n",
        "1. The log-probability of breaking\n",
        "2. The log-probability of not breaking"
      ]
    },
    {
      "cell_type": "code",
      "metadata": {
        "id": "f-sNVWBf5mIp",
        "outputId": "eaf13787-625e-4a7a-e400-bcdbd2a11bdd",
        "colab": {
          "base_uri": "https://localhost:8080/"
        }
      },
      "source": [
        "charidxs, wordbrks = sent2data(['my', 'name'])\n",
        "brkvecs = wordseg_model(charidxs)\n",
        "print(brkvecs)"
      ],
      "execution_count": null,
      "outputs": [
        {
          "output_type": "stream",
          "name": "stdout",
          "text": [
            "tensor([[-0.6606, -0.7268],\n",
            "        [-0.6233, -0.7683],\n",
            "        [-0.5993, -0.7967],\n",
            "        [-0.6238, -0.7677],\n",
            "        [-0.6536, -0.7343],\n",
            "        [-0.6649, -0.7222]], grad_fn=<LogSoftmaxBackward0>)\n"
          ]
        }
      ]
    },
    {
      "cell_type": "markdown",
      "metadata": {
        "id": "-5AUXyf75mIq"
      },
      "source": [
        "### Converting to a Sequence of Prediction Classes"
      ]
    },
    {
      "cell_type": "markdown",
      "metadata": {
        "id": "531YKcgNZjSm"
      },
      "source": [
        "Last we have to convert a sequence of word delimiters into a sequence of delimiter classes (`True` for breaking and `False` for not breaking)."
      ]
    },
    {
      "cell_type": "code",
      "metadata": {
        "id": "a08K9x_K5mIr"
      },
      "source": [
        "def wordbrks2brkvec(wordbrks):\n",
        "    brkvec = T.LongTensor(len(wordbrks))\n",
        "    for i in range(len(wordbrks)):\n",
        "        if wordbrks[i]: brkvec[i] = 0\n",
        "        else: brkvec[i] = 1\n",
        "    return brkvec"
      ],
      "execution_count": null,
      "outputs": []
    },
    {
      "cell_type": "code",
      "metadata": {
        "id": "pVoa2Bu_5mIs",
        "outputId": "058b3ef4-4db1-40c6-8a91-3640a7c5cb61",
        "colab": {
          "base_uri": "https://localhost:8080/"
        }
      },
      "source": [
        "print(wordbrks)\n",
        "gold_brkvec = wordbrks2brkvec(wordbrks)\n",
        "print(gold_brkvec)"
      ],
      "execution_count": null,
      "outputs": [
        {
          "output_type": "stream",
          "name": "stdout",
          "text": [
            "[False, True, False, False, False, True]\n",
            "tensor([1, 0, 1, 1, 1, 0])\n"
          ]
        }
      ]
    },
    {
      "cell_type": "markdown",
      "metadata": {
        "id": "pLaNL-Md5mIt"
      },
      "source": [
        "### Negative Log Loss"
      ]
    },
    {
      "cell_type": "markdown",
      "metadata": {
        "id": "vPYB1IYIZ05s"
      },
      "source": [
        "Negative Log Loss (NLL) is a loss function that shows how far the probability of the desired class is from 1. Let $\\mathbf{y}$ be a gold-standard vector and $\\mathbf{y}'$ be a predicted vector. Each $c$-th element of these vectors belongs to each class.\n",
        "\n",
        "$$\n",
        "\\begin{eqnarray}\n",
        "  \\mathrm{NLL} & = & - \\sum_{c=1}^M y_{c} \\log y'_{c}\n",
        "\\end{eqnarray}\n",
        "$$\n",
        "\n",
        "The negative log loss outperforms the mean squared error (MSE) in the case where the sizes of $\\mathbf{y}$ and $\\mathbf{y}'$ are very large. In MSE, we have to compute the difference between each pair of elements in both vectors. In NLL, however, we compute the difference only for the desired class, therefore boosting the speed."
      ]
    },
    {
      "cell_type": "code",
      "metadata": {
        "id": "Rk8c0hal5mIt",
        "outputId": "b28a0d61-eecb-480a-f143-93abd4ca2210",
        "colab": {
          "base_uri": "https://localhost:8080/"
        }
      },
      "source": [
        "loss_fn = N.NLLLoss()\n",
        "loss_fn(brkvecs, gold_brkvec)"
      ],
      "execution_count": null,
      "outputs": [
        {
          "output_type": "execute_result",
          "data": {
            "text/plain": [
              "tensor(0.7189, grad_fn=<NllLossBackward0>)"
            ]
          },
          "metadata": {},
          "execution_count": 41
        }
      ]
    },
    {
      "cell_type": "markdown",
      "metadata": {
        "id": "kBPoyuxJ5mIv"
      },
      "source": [
        "-------"
      ]
    },
    {
      "cell_type": "markdown",
      "metadata": {
        "id": "xHhtyxm55mIw"
      },
      "source": [
        "### Online Training"
      ]
    },
    {
      "cell_type": "markdown",
      "metadata": {
        "id": "B0q9nGIbcvi5"
      },
      "source": [
        "Let just imitate the training procedure of Lab 2. :P"
      ]
    },
    {
      "cell_type": "code",
      "metadata": {
        "id": "KdiYkSqy5mIw"
      },
      "source": [
        "def train_model(wordseg_model, training_data, epochs, loss_fn, optimizer):\n",
        "    no_samples = len(training_data)\n",
        "    loss_history = []\n",
        "    \n",
        "    for i in range(epochs):\n",
        "        total_loss = 0.0\n",
        "        random.shuffle(training_data)\n",
        "        \n",
        "        for (charidxs, wordbrks) in tqdm(training_data):                \n",
        "            pred_brkvecs = wordseg_model(charidxs)       # Perform prediction\n",
        "            gold_brkvec = wordbrks2brkvec(wordbrks)      # Gold standard\n",
        "            \n",
        "            loss = loss_fn(pred_brkvecs, gold_brkvec)\n",
        "            total_loss += loss.item()\n",
        "            \n",
        "            optimizer.zero_grad()      # Clear gradient cache\n",
        "            loss.backward()            # Perform backpropagation\n",
        "            optimizer.step()           # Update the model parameters\n",
        "        \n",
        "        loss_history.append(total_loss / no_samples)\n",
        "        \n",
        "    # Plot the loss history with Matplotlib\n",
        "    epoch_count = range(1, epochs + 1)\n",
        "    plt.plot(epoch_count, loss_history, 'b--')\n",
        "    plt.legend(['Training Loss'])\n",
        "    plt.xlabel('Epoch')\n",
        "    plt.ylabel('Loss')\n",
        "    plt.show()"
      ],
      "execution_count": null,
      "outputs": []
    },
    {
      "cell_type": "markdown",
      "metadata": {
        "id": "TnfTLa4Ac9N-"
      },
      "source": [
        "<font color=\"red\">**PLEASE NOTE THAT ONLINE TRAINING IS TIME-CONSUMING.**</font>"
      ]
    },
    {
      "cell_type": "code",
      "metadata": {
        "id": "SHrMlVd35mIy",
        "outputId": "1a1b8fae-84b5-4126-b89a-51e9513fff60",
        "colab": {
          "base_uri": "https://localhost:8080/",
          "height": 370
        }
      },
      "source": [
        "epochs = 5\n",
        "# epochs = 20      # Only if you can wait\n",
        "learning_rate = 0.001\n",
        "\n",
        "loss_fn = N.NLLLoss()\n",
        "optimizer = O.Adam(wordseg_model.parameters(), lr=learning_rate)\n",
        "train_model(wordseg_model, training_set, epochs, loss_fn, optimizer)"
      ],
      "execution_count": null,
      "outputs": [
        {
          "output_type": "stream",
          "name": "stderr",
          "text": [
            "100%|██████████| 2484/2484 [01:24<00:00, 29.52it/s]\n",
            "100%|██████████| 2484/2484 [01:28<00:00, 28.07it/s]\n",
            "100%|██████████| 2484/2484 [01:26<00:00, 28.72it/s]\n",
            "100%|██████████| 2484/2484 [01:26<00:00, 28.66it/s]\n",
            "100%|██████████| 2484/2484 [01:27<00:00, 28.42it/s]\n"
          ]
        },
        {
          "output_type": "display_data",
          "data": {
            "image/png": "[encoded data removed]",
            "text/plain": [
              "<Figure size 432x288 with 1 Axes>"
            ]
          },
          "metadata": {
            "needs_background": "light"
          }
        }
      ]
    },
    {
      "cell_type": "markdown",
      "metadata": {
        "id": "IucYW7kq5mIz"
      },
      "source": [
        "-----"
      ]
    },
    {
      "cell_type": "markdown",
      "metadata": {
        "id": "oQ_9KpAx5mI0"
      },
      "source": [
        "### Trying out"
      ]
    },
    {
      "cell_type": "code",
      "metadata": {
        "id": "7Fi2wdaT5mI0"
      },
      "source": [
        "def tokenize(wordseg_model, charseq):\n",
        "    charidxs = str2idxseq(charseq)\n",
        "    pred_brkvecs = wordseg_model(charidxs)\n",
        "    pred_wordbrks = []\n",
        "    for i in range(len(charidxs)):\n",
        "        pred_wordbrk = (pred_brkvecs[i][0] > pred_brkvecs[i][1])\n",
        "        # print(pred_wordbrk)\n",
        "        pred_wordbrks.append(pred_wordbrk)\n",
        "    \n",
        "    sent = []\n",
        "    word = []\n",
        "    begpos = 0\n",
        "    for i in range(len(pred_wordbrks)):\n",
        "        if pred_wordbrks[i]:\n",
        "            word.append(charseq[i])\n",
        "            sent.append(word)\n",
        "            word = []\n",
        "            begpos = i\n",
        "        else:\n",
        "            word.append(charseq[i])\n",
        "    if len(word) > 0: sent.append(word)\n",
        "        \n",
        "    return sent"
      ],
      "execution_count": null,
      "outputs": []
    },
    {
      "cell_type": "code",
      "metadata": {
        "id": "VWToNFVCGWuh",
        "outputId": "96d6057f-d382-4cbe-96d0-8827a12a804f",
        "colab": {
          "base_uri": "https://localhost:8080/"
        }
      },
      "source": [
        "words = tokenize(wordseg_model, 'tobe,ornottobe,thatisthequestion.')\n",
        "print(' '.join(''.join(word) for word in words))"
      ],
      "execution_count": null,
      "outputs": [
        {
          "output_type": "stream",
          "name": "stdout",
          "text": [
            "to be , or not to be , that is the question .\n"
          ]
        }
      ]
    },
    {
      "cell_type": "markdown",
      "metadata": {
        "id": "nQjIi42d5mI1"
      },
      "source": [
        "-------"
      ]
    },
    {
      "cell_type": "markdown",
      "metadata": {
        "id": "Ov3YGt6G5mI1"
      },
      "source": [
        "### Testing Procedure"
      ]
    },
    {
      "cell_type": "markdown",
      "metadata": {
        "id": "-dR_5UQzdHBn"
      },
      "source": [
        "Let's test our model and how much accuracy we can achieve."
      ]
    },
    {
      "cell_type": "code",
      "metadata": {
        "id": "XHt9EKHy5mI2"
      },
      "source": [
        "def test_model(wordseg_model, testing_data):\n",
        "    no_correct = 0.0\n",
        "    no_goldbrks = 0.0\n",
        "    no_predbrks = 0.0\n",
        "\n",
        "    for (charidxs, gold_wordbrks) in tqdm(testing_data):\n",
        "        pred_brkvecs = wordseg_model(charidxs)\n",
        "        pred_wordbrks = []\n",
        "        for i in range(len(charidxs)):\n",
        "            pred_wordbrk = (pred_brkvecs[i][0] > pred_brkvecs[i][1])\n",
        "            pred_wordbrks.append(pred_wordbrk)\n",
        "        \n",
        "        for i in range(len(charidxs)):\n",
        "            if gold_wordbrks[i] and gold_wordbrks[i] == pred_wordbrks[i]:\n",
        "                no_correct += 1.0\n",
        "            if gold_wordbrks[i]:\n",
        "                no_goldbrks += 1.0\n",
        "            if pred_wordbrks[i]:\n",
        "                no_predbrks += 1.0\n",
        "\n",
        "    precision = 100 * no_correct / no_predbrks\n",
        "    recall = 100 * no_correct / no_goldbrks\n",
        "    f1 = 2 * precision * recall / (precision + recall)\n",
        "    \n",
        "    print('\\nPrecision = {}'.format(precision))\n",
        "    print('Recall = {}'.format(recall))\n",
        "    print('F1 = {}'.format(f1))"
      ],
      "execution_count": null,
      "outputs": []
    },
    {
      "cell_type": "code",
      "metadata": {
        "id": "UNBemgRQ5mI3",
        "outputId": "805e6800-aabc-4321-ee57-1a51607a0386",
        "colab": {
          "base_uri": "https://localhost:8080/"
        }
      },
      "source": [
        "test_model(wordseg_model, testing_set)"
      ],
      "execution_count": null,
      "outputs": [
        {
          "output_type": "stream",
          "name": "stderr",
          "text": [
            "100%|██████████| 622/622 [00:07<00:00, 84.09it/s]"
          ]
        },
        {
          "output_type": "stream",
          "name": "stdout",
          "text": [
            "\n",
            "Precision = 94.69157769869514\n",
            "Recall = 92.73889050246878\n",
            "F1 = 93.7050623624358\n"
          ]
        },
        {
          "output_type": "stream",
          "name": "stderr",
          "text": [
            "\n"
          ]
        }
      ]
    },
    {
      "cell_type": "markdown",
      "metadata": {
        "id": "u4WPeANWfAIW"
      },
      "source": [
        "## Exercises"
      ]
    },
    {
      "cell_type": "markdown",
      "metadata": {
        "id": "wbCxsdeVelaw"
      },
      "source": [
        "Vary the dimension of character vectors, the dimension of internal states, and the number of RNN layers. Observe the change of F1 scores.\n",
        "\n",
        "<font color=\"red\">**PLEASE NOTE THAT ONLINE TRAINING IS TIME-CONSUMING.**</font>"
      ]
    },
    {
      "cell_type": "code",
      "metadata": {
        "id": "_nLw4RKh5mI4"
      },
      "source": [
        "# for dim_charvec in [4, 8, 16, 32, 64]:\n",
        "#     for dim_trans in [4, 8, 16, 32, 64]:\n",
        "#         for no_layers in [1, 2, 3]:\n",
        "#             print('>>> dim_charvec={}  dim_trans={}  no_layers={}'.format(dim_charvec, dim_trans, no_layers))\n",
        "#             wordseg_model_ex1 = WordsegModel(dim_charvec, dim_trans, no_layers)\n",
        "#             train_model(wordseg_model_ex1, training_set, epochs, loss_fn, optimizer)\n",
        "#             test_model(wordseg_model_ex1, testing_set)"
      ],
      "execution_count": null,
      "outputs": []
    }
  ]
}